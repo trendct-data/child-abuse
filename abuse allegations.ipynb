{
 "cells": [
  {
   "cell_type": "code",
   "execution_count": 39,
   "metadata": {
    "collapsed": true
   },
   "outputs": [],
   "source": [
    "import pandas as pd\n",
    "abuse = pd.read_csv(\"data/abuse_data.csv\",sep=\"\\t\")\n",
    "statewide = abuse [abuse [\"Town\"] == \"Statewide\"]\n",
    "abuse = abuse [ abuse [\"Town\"] != \"Statewide\"]"
   ]
  },
  {
   "cell_type": "code",
   "execution_count": 40,
   "metadata": {
    "collapsed": false
   },
   "outputs": [
    {
     "data": {
      "text/plain": [
       "Location                             object\n",
       "Town                                 object\n",
       "Population                            int64\n",
       "Educational_Neglect_Total             int64\n",
       "Educational_Neglect_Substantiated     int64\n",
       "Emotional_Neglect_Total               int64\n",
       "Emotional_Neglect_Substantiated       int64\n",
       "Medical_Neglect_Total                 int64\n",
       "Medical_Neglect_Substantiated         int64\n",
       "Physical_Abuse_Total                  int64\n",
       "Physical_Abuse_Substantiated          int64\n",
       "Physical_Neglect_Total                int64\n",
       "Physical_Neglect_Substantiated        int64\n",
       "Sexual_Abuse_Total                    int64\n",
       "Sexual_Abuse_Substantiated            int64\n",
       "dtype: object"
      ]
     },
     "execution_count": 40,
     "metadata": {},
     "output_type": "execute_result"
    }
   ],
   "source": [
    "abuse.dtypes\n"
   ]
  },
  {
   "cell_type": "code",
   "execution_count": 45,
   "metadata": {
    "collapsed": false
   },
   "outputs": [
    {
     "name": "stderr",
     "output_type": "stream",
     "text": [
      "/usr/local/lib/python2.7/site-packages/ipykernel/__main__.py:10: SettingWithCopyWarning: \n",
      "A value is trying to be set on a copy of a slice from a DataFrame.\n",
      "Try using .loc[row_indexer,col_indexer] = value instead\n",
      "\n",
      "See the caveats in the documentation: http://pandas.pydata.org/pandas-docs/stable/indexing.html#indexing-view-versus-copy\n",
      "/usr/local/lib/python2.7/site-packages/ipykernel/__main__.py:11: SettingWithCopyWarning: \n",
      "A value is trying to be set on a copy of a slice from a DataFrame.\n",
      "Try using .loc[row_indexer,col_indexer] = value instead\n",
      "\n",
      "See the caveats in the documentation: http://pandas.pydata.org/pandas-docs/stable/indexing.html#indexing-view-versus-copy\n"
     ]
    }
   ],
   "source": [
    "def col_per_capita(df, col):\n",
    "    if \"Total\" not in col and \"Substantiated\" not in col:\n",
    "        return df[col]\n",
    "    return df[col] / df[\"Population\"] * 1000\n",
    "\n",
    "per_capita = abuse[[\"Location\",\"Town\",\"Population\"]]\n",
    "state_per_capita = statewide[[\"Location\",\"Town\",\"Population\"]]\n",
    "\n",
    "for col in abuse.columns:\n",
    "    per_capita[col + \"_pc\"] = col_per_capita(abuse, col)\n",
    "    state_per_capita[col + \"_pc\"] = col_per_capita(statewide, col)"
   ]
  },
  {
   "cell_type": "code",
   "execution_count": 46,
   "metadata": {
    "collapsed": false
   },
   "outputs": [
    {
     "data": {
      "text/plain": [
       "Location                             AnsoniaAshfordBerlinBethelBloomfieldBranfordBr...\n",
       "Town                                 AnsoniaAshfordBerlinBethelBloomfieldBranfordBr...\n",
       "Population                                                                     3049993\n",
       "Educational_Neglect_Total                                                         2652\n",
       "Educational_Neglect_Substantiated                                                  743\n",
       "Emotional_Neglect_Total                                                          10707\n",
       "Emotional_Neglect_Substantiated                                                   2318\n",
       "Medical_Neglect_Total                                                             1590\n",
       "Medical_Neglect_Substantiated                                                      541\n",
       "Physical_Abuse_Total                                                              6907\n",
       "Physical_Abuse_Substantiated                                                       848\n",
       "Physical_Neglect_Total                                                           39369\n",
       "Physical_Neglect_Substantiated                                                    7444\n",
       "Sexual_Abuse_Total                                                                1872\n",
       "Sexual_Abuse_Substantiated                                                         672\n",
       "dtype: object"
      ]
     },
     "execution_count": 46,
     "metadata": {},
     "output_type": "execute_result"
    }
   ],
   "source": [
    "abuse.sum()"
   ]
  },
  {
   "cell_type": "code",
   "execution_count": 70,
   "metadata": {
    "collapsed": false
   },
   "outputs": [
    {
     "data": {
      "text/html": [
       "<div>\n",
       "<table border=\"1\" class=\"dataframe\">\n",
       "  <thead>\n",
       "    <tr style=\"text-align: right;\">\n",
       "      <th></th>\n",
       "      <th>Town</th>\n",
       "      <th>Location</th>\n",
       "      <th>Physical_Neglect_Total_pc</th>\n",
       "      <th>Physical_Neglect_Substantiated_pc</th>\n",
       "    </tr>\n",
       "  </thead>\n",
       "  <tbody>\n",
       "    <tr>\n",
       "      <th>31</th>\n",
       "      <td>Hartford</td>\n",
       "      <td>Hartford</td>\n",
       "      <td>29.262605</td>\n",
       "      <td>4.224868</td>\n",
       "    </tr>\n",
       "    <tr>\n",
       "      <th>79</th>\n",
       "      <td>Waterbury</td>\n",
       "      <td>Waterbury</td>\n",
       "      <td>27.391775</td>\n",
       "      <td>6.825193</td>\n",
       "    </tr>\n",
       "    <tr>\n",
       "      <th>47</th>\n",
       "      <td>New London</td>\n",
       "      <td>New London</td>\n",
       "      <td>26.873911</td>\n",
       "      <td>7.081639</td>\n",
       "    </tr>\n",
       "    <tr>\n",
       "      <th>46</th>\n",
       "      <td>New Haven</td>\n",
       "      <td>New Haven</td>\n",
       "      <td>25.307729</td>\n",
       "      <td>4.595835</td>\n",
       "    </tr>\n",
       "    <tr>\n",
       "      <th>60</th>\n",
       "      <td>Putnam</td>\n",
       "      <td>Putnam</td>\n",
       "      <td>25.223332</td>\n",
       "      <td>5.885444</td>\n",
       "    </tr>\n",
       "    <tr>\n",
       "      <th>53</th>\n",
       "      <td>Norwich</td>\n",
       "      <td>Norwich</td>\n",
       "      <td>24.642132</td>\n",
       "      <td>6.662044</td>\n",
       "    </tr>\n",
       "  </tbody>\n",
       "</table>\n",
       "</div>"
      ],
      "text/plain": [
       "          Town    Location  Physical_Neglect_Total_pc  \\\n",
       "31    Hartford    Hartford                  29.262605   \n",
       "79   Waterbury   Waterbury                  27.391775   \n",
       "47  New London  New London                  26.873911   \n",
       "46   New Haven   New Haven                  25.307729   \n",
       "60      Putnam      Putnam                  25.223332   \n",
       "53     Norwich     Norwich                  24.642132   \n",
       "\n",
       "    Physical_Neglect_Substantiated_pc  \n",
       "31                           4.224868  \n",
       "79                           6.825193  \n",
       "47                           7.081639  \n",
       "46                           4.595835  \n",
       "60                           5.885444  \n",
       "53                           6.662044  "
      ]
     },
     "execution_count": 70,
     "metadata": {},
     "output_type": "execute_result"
    }
   ],
   "source": [
    "per_capita[per_capita[\"Physical_Neglect_Total_pc\"] > 24]\\\n",
    "[[\"Town\",\"Location\",\"Physical_Neglect_Total_pc\",\"Physical_Neglect_Substantiated_pc\"]]\\\n",
    ".sort_values(by=\"Physical_Neglect_Total_pc\",ascending=False)"
   ]
  },
  {
   "cell_type": "code",
   "execution_count": 73,
   "metadata": {
    "collapsed": false
   },
   "outputs": [
    {
     "data": {
      "text/plain": [
       "Location                                Statewide\n",
       "Town                                    Statewide\n",
       "Population                                3592053\n",
       "Location_pc                             Statewide\n",
       "Town_pc                                 Statewide\n",
       "Population_pc                             3592053\n",
       "Educational_Neglect_Total_pc             0.726604\n",
       "Educational_Neglect_Substantiated_pc     0.149497\n",
       "Emotional_Neglect_Total_pc                3.39165\n",
       "Emotional_Neglect_Substantiated_pc       0.672317\n",
       "Medical_Neglect_Total_pc                 0.402834\n",
       "Medical_Neglect_Substantiated_pc        0.0829609\n",
       "Physical_Abuse_Total_pc                   2.14028\n",
       "Physical_Abuse_Substantiated_pc          0.150332\n",
       "Physical_Neglect_Total_pc                 12.4199\n",
       "Physical_Neglect_Substantiated_pc         2.24941\n",
       "Sexual_Abuse_Total_pc                     0.50389\n",
       "Sexual_Abuse_Substantiated_pc            0.120265\n",
       "dtype: object"
      ]
     },
     "execution_count": 73,
     "metadata": {},
     "output_type": "execute_result"
    }
   ],
   "source": [
    "state_per_capita.max()\n"
   ]
  },
  {
   "cell_type": "code",
   "execution_count": 72,
   "metadata": {
    "collapsed": false
   },
   "outputs": [
    {
     "data": {
      "text/plain": [
       "Location                                Woodstock\n",
       "Town                                    Woodstock\n",
       "Population                                 146680\n",
       "Location_pc                             Woodstock\n",
       "Town_pc                                 Woodstock\n",
       "Population_pc                              146680\n",
       "Educational_Neglect_Total_pc              2.65152\n",
       "Educational_Neglect_Substantiated_pc      2.11193\n",
       "Emotional_Neglect_Total_pc                9.35365\n",
       "Emotional_Neglect_Substantiated_pc        4.83447\n",
       "Medical_Neglect_Total_pc                  2.62536\n",
       "Medical_Neglect_Substantiated_pc          2.11193\n",
       "Physical_Abuse_Total_pc                   5.94996\n",
       "Physical_Abuse_Substantiated_pc           2.30415\n",
       "Physical_Neglect_Total_pc                 29.2626\n",
       "Physical_Neglect_Substantiated_pc         9.21659\n",
       "Sexual_Abuse_Total_pc                     2.62536\n",
       "Sexual_Abuse_Substantiated_pc             2.62536\n",
       "dtype: object"
      ]
     },
     "execution_count": 72,
     "metadata": {},
     "output_type": "execute_result"
    }
   ],
   "source": [
    "per_capita.max()"
   ]
  },
  {
   "cell_type": "code",
   "execution_count": 81,
   "metadata": {
    "collapsed": false
   },
   "outputs": [
    {
     "data": {
      "text/html": [
       "<div>\n",
       "<table border=\"1\" class=\"dataframe\">\n",
       "  <thead>\n",
       "    <tr style=\"text-align: right;\">\n",
       "      <th></th>\n",
       "      <th>Town</th>\n",
       "      <th>Location</th>\n",
       "      <th>Emotional_Neglect_Total_pc</th>\n",
       "      <th>Emotional_Neglect_Substantiated_pc</th>\n",
       "    </tr>\n",
       "  </thead>\n",
       "  <tbody>\n",
       "    <tr>\n",
       "      <th>60</th>\n",
       "      <td>Putnam</td>\n",
       "      <td>Putnam</td>\n",
       "      <td>9.353652</td>\n",
       "      <td>4.834472</td>\n",
       "    </tr>\n",
       "    <tr>\n",
       "      <th>86</th>\n",
       "      <td>Windham</td>\n",
       "      <td>Willimantic</td>\n",
       "      <td>7.518499</td>\n",
       "      <td>1.701555</td>\n",
       "    </tr>\n",
       "    <tr>\n",
       "      <th>38</th>\n",
       "      <td>Meriden</td>\n",
       "      <td>Meriden</td>\n",
       "      <td>7.242312</td>\n",
       "      <td>1.600238</td>\n",
       "    </tr>\n",
       "    <tr>\n",
       "      <th>35</th>\n",
       "      <td>Lisbon</td>\n",
       "      <td>Lisbon</td>\n",
       "      <td>7.142857</td>\n",
       "      <td>3.917051</td>\n",
       "    </tr>\n",
       "    <tr>\n",
       "      <th>85</th>\n",
       "      <td>Winchester</td>\n",
       "      <td>Winsted</td>\n",
       "      <td>6.943818</td>\n",
       "      <td>1.442871</td>\n",
       "    </tr>\n",
       "    <tr>\n",
       "      <th>79</th>\n",
       "      <td>Waterbury</td>\n",
       "      <td>Waterbury</td>\n",
       "      <td>6.779692</td>\n",
       "      <td>2.102159</td>\n",
       "    </tr>\n",
       "    <tr>\n",
       "      <th>31</th>\n",
       "      <td>Hartford</td>\n",
       "      <td>Hartford</td>\n",
       "      <td>6.716662</td>\n",
       "      <td>0.662881</td>\n",
       "    </tr>\n",
       "  </tbody>\n",
       "</table>\n",
       "</div>"
      ],
      "text/plain": [
       "          Town     Location  Emotional_Neglect_Total_pc  \\\n",
       "60      Putnam       Putnam                    9.353652   \n",
       "86     Windham  Willimantic                    7.518499   \n",
       "38     Meriden      Meriden                    7.242312   \n",
       "35      Lisbon       Lisbon                    7.142857   \n",
       "85  Winchester      Winsted                    6.943818   \n",
       "79   Waterbury    Waterbury                    6.779692   \n",
       "31    Hartford     Hartford                    6.716662   \n",
       "\n",
       "    Emotional_Neglect_Substantiated_pc  \n",
       "60                            4.834472  \n",
       "86                            1.701555  \n",
       "38                            1.600238  \n",
       "35                            3.917051  \n",
       "85                            1.442871  \n",
       "79                            2.102159  \n",
       "31                            0.662881  "
      ]
     },
     "execution_count": 81,
     "metadata": {},
     "output_type": "execute_result"
    }
   ],
   "source": [
    "per_capita[per_capita[\"Emotional_Neglect_Total_pc\"] > 6.6]\\\n",
    "[[\"Town\",\"Location\",\"Emotional_Neglect_Total_pc\",\"Emotional_Neglect_Substantiated_pc\"]]\\\n",
    ".sort_values(by=\"Emotional_Neglect_Total_pc\",ascending=False)"
   ]
  },
  {
   "cell_type": "code",
   "execution_count": null,
   "metadata": {
    "collapsed": true
   },
   "outputs": [],
   "source": []
  }
 ],
 "metadata": {
  "kernelspec": {
   "display_name": "Python 2",
   "language": "python",
   "name": "python2"
  },
  "language_info": {
   "codemirror_mode": {
    "name": "ipython",
    "version": 2
   },
   "file_extension": ".py",
   "mimetype": "text/x-python",
   "name": "python",
   "nbconvert_exporter": "python",
   "pygments_lexer": "ipython2",
   "version": "2.7.11"
  }
 },
 "nbformat": 4,
 "nbformat_minor": 0
}
